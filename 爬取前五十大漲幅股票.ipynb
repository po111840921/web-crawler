{
 "cells": [
  {
   "cell_type": "code",
   "execution_count": null,
   "metadata": {},
   "outputs": [],
   "source": [
    "#用網路爬蟲爬取今日上市(櫃)漲幅前50大代號\n",
    "#抓原始碼\n",
    "import requests\n",
    "#n = \"上市\"\n",
    "#w = 'https://tw.stock.yahoo.com/d/i/rank.php?t=up&e=TAI&n=50'\n",
    "n = \"上櫃\" \n",
    "w = 'https://tw.stock.yahoo.com/d/i/rank.php?t=up&e=otc&n=50'\n",
    "\n",
    "r = requests.get(w)\n",
    "#查看執行有無錯誤\n",
    "#print(r.status_code)\n",
    "#由requests中函數檢驗是否正確\n",
    "if r.status_code == requests.codes.ok: \n",
    "    print()\n",
    "else:\n",
    "    print(\"stop\")\n",
    "#用bs4解析HTML\n",
    "from bs4 import BeautifulSoup\n",
    "#parser = 解析器\n",
    "soup = BeautifulSoup(r.text, \"html.parser\")\n",
    "#篩選個股：剔除ETF、價格50內、成交張數>=1000\n",
    "        \n",
    "tr = soup.find_all(\"tr\",attrs = {'align' : \"right\"})\n",
    "l = []\n",
    "for i in tr:\n",
    "    ll = [k for k in i.get_text().strip().split(\"\\n\")]\n",
    "    l.append(ll)\n",
    "stock_list1 = []\n",
    "for i in l:\n",
    "    stock_list1.append([i[1].split(\" \")[0],i[1].split(\" \")[1],i[2],i[8]])\n",
    "stock_list = stock_list1[:]\n",
    "for i in stock_list1:\n",
    "    x = i[3].split(\",\")\n",
    "    if len(x) == 3:\n",
    "        i[3] = x[0] + x[1] + x[2]\n",
    "    elif len(x) == 2:\n",
    "        i[3] = x[0] + x[1]\n",
    "    elif len(x) == 1:\n",
    "        i[3] = x[0]\n",
    "    else:\n",
    "        print(\"數量超出指定\")\n",
    "        break\n",
    "    if len(i[0]) > 4 or float(i[2]) > 50 or int(i[3]) < 1000:\n",
    "        stock_list.remove(i)\n",
    "    else:\n",
    "        continue\n",
    "f = open(\"C:\\\\python\\\\Trading\\\\programming\\\\data.txt\",\"a\")        \n",
    "for i in stock_list:\n",
    "    if i == stock_list[0]:\n",
    "        f.write(n + \": \" + i[0] + \"\\t\")\n",
    "    elif i == stock_list[-1]:\n",
    "        f.write(i[0] + \"\\n\")\n",
    "    else:\n",
    "        f.write(i[0] + \"\\t\")\n",
    "f.close()"
   ]
  }
 ],
 "metadata": {
  "kernelspec": {
   "display_name": "Python 3",
   "language": "python",
   "name": "python3"
  },
  "language_info": {
   "codemirror_mode": {
    "name": "ipython",
    "version": 3
   },
   "file_extension": ".py",
   "mimetype": "text/x-python",
   "name": "python",
   "nbconvert_exporter": "python",
   "pygments_lexer": "ipython3",
   "version": "3.6.8"
  }
 },
 "nbformat": 4,
 "nbformat_minor": 2
}
